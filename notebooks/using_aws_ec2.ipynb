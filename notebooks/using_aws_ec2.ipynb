{
 "cells": [
  {
   "cell_type": "markdown",
   "metadata": {},
   "source": [
    "### Useful functions within the `aws_tools` module\n",
    "\n",
    "The `exo_bespin.aws.aws_tools` module provides functions that enables users to use create, start, stop, and interact with AWS EC2 instances.  The relevant functions are:\n",
    "\n",
    "- `get_config()` - Returns a python dictionary containing the key/value pairs found in the `aws_config.json` file.  This includes the path to the SSH key file, and the `ec2_id`, which points to a specific EC2 instance ID or EC2 launch template ID.\n",
    "- `start_ec2(ssh_file, ec2_id)` - Starts an EC2 instance for the given `ec2_id`, which can point to a specific EC2 instance ID or an EC2 launch template ID.  Returns `instance`, which is the `boto3` AWS EC2 instance object, `key`, which is the `paramiko.rsakey.RSAKey` object, and `client`, which is the `paramiko.client.SSHClient` object.  `instance`, `key`, and `client` are needed in other functions of `aws_tools` to interact with the EC2 instance.\n",
    "- `stop_ec2(ec2_id, instance)` - Same as above, only for terminating/stopping the given instance instead of creating/starting it.  If an EC2 instance ID is passed with `ec2_id`, the instance is stopped.  However, if an EC2 launch template ID is passed, the instance is terminated.\n",
    "- `transfer_to_ec2(instance, key, client, filename)` - Transfers the file given by `filename` to the given EC2 instance.\n",
    "- `transfer_from_ec2(instance, key, client, filename)` - The same as above, only transfers the given file from the EC2 instance to the local machine."
   ]
  },
  {
   "cell_type": "code",
   "execution_count": 1,
   "metadata": {},
   "outputs": [],
   "source": [
    "from exo_bespin.aws import aws_tools"
   ]
  },
  {
   "cell_type": "markdown",
   "metadata": {},
   "source": [
    "*First, we retrieve the settings from the `aws_config.json` file, which are ultimately needed to interact with EC2:*"
   ]
  },
  {
   "cell_type": "code",
   "execution_count": 2,
   "metadata": {},
   "outputs": [],
   "source": [
    "settings = aws_tools.get_config()\n",
    "ssh_file = settings['ssh_file']\n",
    "ec2_id = settings['ec2_id']"
   ]
  },
  {
   "cell_type": "markdown",
   "metadata": {},
   "source": [
    "*Next, we use `start_ec2` to create and/or start an EC2 instance.  To create an EC2 instance from scratch, use `ec2_id` to pass an EC2 launch template ID.  To start an existing EC2 instance, use `ec2_id` to pass an EC2 instance ID:*"
   ]
  },
  {
   "cell_type": "code",
   "execution_count": 3,
   "metadata": {},
   "outputs": [],
   "source": [
    "instance, key, client = aws_tools.start_ec2(ssh_file, ec2_id)"
   ]
  },
  {
   "cell_type": "markdown",
   "metadata": {},
   "source": [
    "*Please note that it will take a few seconds to start an existing EC2 instance, and take a few minutes to create a new EC2 instance and build the `exo-bespin` software environment.  Users are encourage to use python's `time.sleep()` to make sure that software that uses the EC2 instance does not get invoked too soon.*"
   ]
  },
  {
   "cell_type": "markdown",
   "metadata": {},
   "source": [
    "*For this example, we will assume the user wishes to run some software on the EC2 instance.  We will use the following simple example module:*"
   ]
  },
  {
   "cell_type": "code",
   "execution_count": 4,
   "metadata": {},
   "outputs": [
    {
     "name": "stdout",
     "output_type": "stream",
     "text": [
      "if __name__ == '__main__':\r\n",
      "\r\n",
      "    # Open up some input file\r\n",
      "    with open('input.txt') as f:\r\n",
      "        data = f.readlines()\r\n",
      "    print(data)\r\n",
      "\r\n",
      "    # Save some results\r\n",
      "    with open('results.dat', 'w') as f:\r\n",
      "        f.write('These are my results!')"
     ]
    }
   ],
   "source": [
    "!cat data/ec2_example.py"
   ]
  },
  {
   "cell_type": "markdown",
   "metadata": {},
   "source": [
    "*Note that this example requires an input file (`input.txt`).  We can provide that input file by transfering a copy of it to the EC2 instance using the `transfer_to_ec2` function.  With this, the input file is copied to the home directory of the EC2 instance (i.e. `/home/ec2-user/input.txt`):*"
   ]
  },
  {
   "cell_type": "code",
   "execution_count": 5,
   "metadata": {},
   "outputs": [],
   "source": [
    "aws_tools.transfer_to_ec2(instance, key, client, 'data/input.txt')"
   ]
  },
  {
   "cell_type": "markdown",
   "metadata": {},
   "source": [
    "*Now we can run the module of interest:*"
   ]
  },
  {
   "cell_type": "code",
   "execution_count": 6,
   "metadata": {},
   "outputs": [
    {
     "name": "stdout",
     "output_type": "stream",
     "text": [
      "no change     /home/ec2-user/miniconda3/condabin/conda\n",
      "no change     /home/ec2-user/miniconda3/bin/conda\n",
      "no change     /home/ec2-user/miniconda3/bin/conda-env\n",
      "no change     /home/ec2-user/miniconda3/bin/activate\n",
      "no change     /home/ec2-user/miniconda3/bin/deactivate\n",
      "no change     /home/ec2-user/miniconda3/etc/profile.d/conda.sh\n",
      "no change     /home/ec2-user/miniconda3/etc/fish/conf.d/conda.fish\n",
      "no change     /home/ec2-user/miniconda3/shell/condabin/Conda.psm1\n",
      "no change     /home/ec2-user/miniconda3/shell/condabin/conda-hook.ps1\n",
      "no change     /home/ec2-user/miniconda3/lib/python3.8/site-packages/xontrib/conda.xsh\n",
      "no change     /home/ec2-user/miniconda3/etc/profile.d/conda.csh\n",
      "modified      /home/ec2-user/.bashrc\n",
      "\n",
      "==> For changes to take effect, close and re-open your current shell. <==\n",
      "\n",
      "[Hello World!]\n",
      "\n"
     ]
    }
   ],
   "source": [
    "command = './exo_bespin/exo_bespin/aws/exo_bespin-env-init.sh python exo_bespin/notebooks/data/ec2_example.py'\n",
    "client.connect(hostname=instance.public_dns_name, username='ec2-user', pkey=key)\n",
    "stdin, stdout, stderr = client.exec_command(command)\n",
    "output = stdout.read()\n",
    "errors = stderr.read()\n",
    "\n",
    "# Make output a more readable\n",
    "output = output.decode(\"utf-8\")\n",
    "output = output.replace('\\t', '  ').replace('\\r', '').replace(\"\\'\", \"\").split('\\n')\n",
    "for line in output:\n",
    "    print(line)"
   ]
  },
  {
   "cell_type": "markdown",
   "metadata": {},
   "source": [
    "*Note that the example produces a results file.  We can retrieve this results file from the EC2 instance using the `transfer_from_ec2` function.  With this, the results file is copied to the current working directory of the local machine:*"
   ]
  },
  {
   "cell_type": "code",
   "execution_count": 7,
   "metadata": {},
   "outputs": [
    {
     "name": "stdout",
     "output_type": "stream",
     "text": [
      "results.dat\r\n"
     ]
    }
   ],
   "source": [
    "aws_tools.transfer_from_ec2(instance, key, client, 'results.dat')\n",
    "!ls results.dat"
   ]
  },
  {
   "cell_type": "markdown",
   "metadata": {},
   "source": [
    "*Lastly, to avoid accruing costs, we can stop the EC2 instance using the `stop_ec2` function:*"
   ]
  },
  {
   "cell_type": "code",
   "execution_count": 8,
   "metadata": {},
   "outputs": [],
   "source": [
    "aws_tools.stop_ec2(ec2_id, instance)"
   ]
  }
 ],
 "metadata": {
  "kernelspec": {
   "display_name": "Python 3",
   "language": "python",
   "name": "python3"
  },
  "language_info": {
   "codemirror_mode": {
    "name": "ipython",
    "version": 3
   },
   "file_extension": ".py",
   "mimetype": "text/x-python",
   "name": "python",
   "nbconvert_exporter": "python",
   "pygments_lexer": "ipython3",
   "version": "3.7.7"
  }
 },
 "nbformat": 4,
 "nbformat_minor": 4
}
